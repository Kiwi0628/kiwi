{
  "nbformat": 4,
  "nbformat_minor": 0,
  "metadata": {
    "kernelspec": {
      "display_name": "Python 3",
      "language": "python",
      "name": "python3"
    },
    "language_info": {
      "codemirror_mode": {
        "name": "ipython",
        "version": 3
      },
      "file_extension": ".py",
      "mimetype": "text/x-python",
      "name": "python",
      "nbconvert_exporter": "python",
      "pygments_lexer": "ipython3",
      "version": "3.7.4"
    },
    "colab": {
      "name": "L4_numbers.ipynb",
      "provenance": [],
      "collapsed_sections": [],
      "include_colab_link": true
    }
  },
  "cells": [
    {
      "cell_type": "markdown",
      "metadata": {
        "id": "view-in-github",
        "colab_type": "text"
      },
      "source": [
        "<a href=\"https://colab.research.google.com/github/Kiwi0628/kiwi/blob/master/L4_numbers.ipynb\" target=\"_parent\"><img src=\"https://colab.research.google.com/assets/colab-badge.svg\" alt=\"Open In Colab\"/></a>"
      ]
    },
    {
      "cell_type": "markdown",
      "metadata": {
        "id": "1dxKQOWrUhFJ",
        "colab_type": "text"
      },
      "source": [
        "# [Numbers](https://docs.python.org/3/library/stdtypes.html#numeric-types-int-float-complex)\n",
        "\n",
        "--------\n",
        "\n",
        "From [Learning Python](https://github.com/jerry-git/learn-python3) by Jerry Pussinen. "
      ]
    },
    {
      "cell_type": "markdown",
      "metadata": {
        "id": "1TvpBwASUhFM",
        "colab_type": "text"
      },
      "source": [
        "## `int`"
      ]
    },
    {
      "cell_type": "code",
      "metadata": {
        "scrolled": true,
        "id": "i8nHVB9jUhFN",
        "colab_type": "code",
        "colab": {}
      },
      "source": [
        "my_int = 6\n",
        "print('value: {}, type: {}'.format(my_int, type(my_int)))"
      ],
      "execution_count": 0,
      "outputs": []
    },
    {
      "cell_type": "markdown",
      "metadata": {
        "id": "DXXPM0iMUhFR",
        "colab_type": "text"
      },
      "source": [
        "## `float`"
      ]
    },
    {
      "cell_type": "code",
      "metadata": {
        "scrolled": true,
        "id": "A9ldeLusUhFS",
        "colab_type": "code",
        "colab": {}
      },
      "source": [
        "my_float = float(my_int)\n",
        "print('value: {}, type: {}'.format(my_float, type(my_float)))"
      ],
      "execution_count": 0,
      "outputs": []
    },
    {
      "cell_type": "markdown",
      "metadata": {
        "id": "ALl9lAN5UhFV",
        "colab_type": "text"
      },
      "source": [
        "Note that division of `int`s produces `float`:"
      ]
    },
    {
      "cell_type": "code",
      "metadata": {
        "id": "Pe6B1a8IUhFV",
        "colab_type": "code",
        "colab": {}
      },
      "source": [
        "print(1 / 1)\n",
        "print(6 / 5)"
      ],
      "execution_count": 0,
      "outputs": []
    },
    {
      "cell_type": "markdown",
      "metadata": {
        "id": "0VfQ5o5vUhFY",
        "colab_type": "text"
      },
      "source": [
        "Be aware of the binary floating-point pitfalls (see [Decimal](#decimal) for workaround):"
      ]
    },
    {
      "cell_type": "code",
      "metadata": {
        "scrolled": true,
        "id": "P8nwVdLSUhFZ",
        "colab_type": "code",
        "colab": {}
      },
      "source": [
        "val = 0.1 + 0.1 + 0.1\n",
        "print(val == 0.3)\n",
        "print(val)"
      ],
      "execution_count": 0,
      "outputs": []
    },
    {
      "cell_type": "markdown",
      "metadata": {
        "id": "OIs28nHYUhFc",
        "colab_type": "text"
      },
      "source": [
        "## Floor division `//`, modulus `%`, power `**`"
      ]
    },
    {
      "cell_type": "code",
      "metadata": {
        "id": "yfBy0HHpUhFd",
        "colab_type": "code",
        "colab": {}
      },
      "source": [
        "7 // 5"
      ],
      "execution_count": 0,
      "outputs": []
    },
    {
      "cell_type": "code",
      "metadata": {
        "id": "DUuhuk_oUhFh",
        "colab_type": "code",
        "colab": {}
      },
      "source": [
        "7 % 5"
      ],
      "execution_count": 0,
      "outputs": []
    },
    {
      "cell_type": "code",
      "metadata": {
        "id": "8EWK6oRwUhFj",
        "colab_type": "code",
        "colab": {}
      },
      "source": [
        "2 ** 3"
      ],
      "execution_count": 0,
      "outputs": []
    },
    {
      "cell_type": "markdown",
      "metadata": {
        "id": "ZjQ33PsbUhFl",
        "colab_type": "text"
      },
      "source": [
        "<a id='decimal'></a>\n",
        "## [`decimal.Decimal`](https://docs.python.org/3/library/decimal.html)"
      ]
    },
    {
      "cell_type": "code",
      "metadata": {
        "scrolled": true,
        "id": "33HJlzG9UhFm",
        "colab_type": "code",
        "colab": {}
      },
      "source": [
        "from decimal import Decimal"
      ],
      "execution_count": 0,
      "outputs": []
    },
    {
      "cell_type": "code",
      "metadata": {
        "scrolled": true,
        "id": "DS2p6vU3UhFp",
        "colab_type": "code",
        "colab": {}
      },
      "source": [
        "from_float = Decimal(0.1)\n",
        "from_str = Decimal('0.1')\n",
        "print('from float: {}\\nfrom string: {}'.format(from_float, from_str))"
      ],
      "execution_count": 0,
      "outputs": []
    },
    {
      "cell_type": "code",
      "metadata": {
        "scrolled": true,
        "id": "vhJ-paxrUhFr",
        "colab_type": "code",
        "colab": {}
      },
      "source": [
        "my_decimal = Decimal('0.1')\n",
        "sum_of_decimals = my_decimal + my_decimal + my_decimal\n",
        "print(sum_of_decimals == Decimal('0.3'))"
      ],
      "execution_count": 0,
      "outputs": []
    },
    {
      "cell_type": "markdown",
      "metadata": {
        "id": "-V34u5RsUhFt",
        "colab_type": "text"
      },
      "source": [
        "## Operator precedence in calculations\n",
        "Mathematical operator precedence applies. Use brackets if you want to change the execution order:"
      ]
    },
    {
      "cell_type": "code",
      "metadata": {
        "id": "IgTmI4Z4UhFu",
        "colab_type": "code",
        "colab": {}
      },
      "source": [
        "print(1 + 2**2 * 3 / 6) # 1 + 4 * 3 / 6 == 1 + 12 / 6 == 1 + 2\n",
        "print((1 + 2**2) * 3 / 6)"
      ],
      "execution_count": 0,
      "outputs": []
    }
  ]
}